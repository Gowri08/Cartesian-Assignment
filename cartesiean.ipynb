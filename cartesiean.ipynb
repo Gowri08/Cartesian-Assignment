{
 "cells": [
  {
   "cell_type": "markdown",
   "id": "04b194a3",
   "metadata": {},
   "source": [
    "# Reversing the string"
   ]
  },
  {
   "cell_type": "code",
   "execution_count": 2,
   "id": "24157fbb",
   "metadata": {},
   "outputs": [
    {
     "name": "stdout",
     "output_type": "stream",
     "text": [
      "This declaration represents a political commitment among declaration partners to advance a positive vision for the Internet in this era of a united europe\n",
      "\n",
      "Output:\n",
      "Europe united a of era this in internet the for vision positive a advance to partners declaration among commitment political a represents declaration this\n"
     ]
    }
   ],
   "source": [
    "s=list(map(str,input().split()))\n",
    "x=s[::-1]\n",
    "t1=\" \".join(x).capitalize()\n",
    "print(\"\\nOutput:\")\n",
    "print(t1)"
   ]
  },
  {
   "cell_type": "markdown",
   "id": "107eb837",
   "metadata": {},
   "source": [
    "# Top 2 most occurred String"
   ]
  },
  {
   "cell_type": "code",
   "execution_count": 4,
   "id": "02bee955",
   "metadata": {},
   "outputs": [
    {
     "name": "stdout",
     "output_type": "stream",
     "text": [
      "a  :  3  times\n",
      "this  :  2  times\n"
     ]
    }
   ],
   "source": [
    "t=list(t1.split(\" \"))\n",
    "d={}\n",
    "for i in t:\n",
    "    if i in d.keys():\n",
    "        d[i]+=1\n",
    "    else:\n",
    "        d[i]=1\n",
    "li=sorted(d.items(), key=lambda x:x[1],reverse=True)\n",
    "print(li[0][0],\" : \",li[0][1],\" times\")\n",
    "print(li[1][0],\" : \",li[1][1],\" times\")"
   ]
  },
  {
   "cell_type": "code",
   "execution_count": null,
   "id": "c057f45b",
   "metadata": {},
   "outputs": [],
   "source": []
  }
 ],
 "metadata": {
  "kernelspec": {
   "display_name": "Python 3 (ipykernel)",
   "language": "python",
   "name": "python3"
  },
  "language_info": {
   "codemirror_mode": {
    "name": "ipython",
    "version": 3
   },
   "file_extension": ".py",
   "mimetype": "text/x-python",
   "name": "python",
   "nbconvert_exporter": "python",
   "pygments_lexer": "ipython3",
   "version": "3.9.7"
  }
 },
 "nbformat": 4,
 "nbformat_minor": 5
}
